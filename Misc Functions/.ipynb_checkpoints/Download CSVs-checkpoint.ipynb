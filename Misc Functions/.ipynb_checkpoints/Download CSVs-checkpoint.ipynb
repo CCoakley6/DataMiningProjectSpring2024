{
 "cells": [
  {
   "cell_type": "markdown",
   "id": "8332a37e-fd2d-48c8-bc78-daff95c567e7",
   "metadata": {},
   "source": [
    "# Downloading Google Covid CSVs"
   ]
  },
  {
   "cell_type": "code",
   "execution_count": 17,
   "id": "79f3083b-3a85-42d5-81a8-77415041e17e",
   "metadata": {},
   "outputs": [],
   "source": [
    "# dictionary of state names\n",
    "county_codes = ['US_CO_08001', 'US_CO_08003', 'US_CO_08005', 'US_CO_08007', 'US_CO_08009', 'US_CO_08013', 'US_CO_08014', 'US_CO_08015', 'US_CO_08017', 'US_CO_08019', \n",
    "                'US_CO_08021', 'US_CO_08023', 'US_CO_08025', 'US_CO_08027', 'US_CO_08029', 'US_CO_08031', 'US_CO_08033', 'US_CO_08035', 'US_CO_08037', 'US_CO_08039', \n",
    "                'US_CO_08041', 'US_CO_08043', 'US_CO_08045', 'US_CO_08047', 'US_CO_08049', 'US_CO_08051', 'US_CO_08053', 'US_CO_08055', 'US_CO_08057', 'US_CO_08059', \n",
    "                'US_CO_08061', 'US_CO_08063', 'US_CO_08065', 'US_CO_08067', 'US_CO_08069', 'US_CO_08071', 'US_CO_08073', 'US_CO_08075', 'US_CO_08077', 'US_CO_08079', \n",
    "                'US_CO_08081', 'US_CO_08083', 'US_CO_08085', 'US_CO_08087', 'US_CO_08089', 'US_CO_08091', 'US_CO_08093', 'US_CO_08095', 'US_CO_08097', 'US_CO_08099', \n",
    "                'US_CO_08101', 'US_CO_08103', 'US_CO_08105', 'US_CO_08107', 'US_CO_08109', 'US_CO_08111', 'US_CO_08113', 'US_CO_08115', 'US_CO_08117', 'US_CO_08119', \n",
    "                'US_CO_08121', 'US_CO_08123', 'US_CO_08125', 'US_WI_55001', 'US_WI_55003', 'US_WI_55005', 'US_WI_55007', 'US_WI_55009', 'US_WI_55011', 'US_WI_55013', \n",
    "                'US_WI_55015', 'US_WI_55017', 'US_WI_55019', 'US_WI_55021', 'US_WI_55023', 'US_WI_55027', 'US_WI_55029', 'US_WI_55031', 'US_WI_55033', 'US_WI_55035', \n",
    "                'US_WI_55037', 'US_WI_55039', 'US_WI_55041', 'US_WI_55043', 'US_WI_55045', 'US_WI_55047', 'US_WI_55049', 'US_WI_55051', 'US_WI_55053', 'US_WI_55055', \n",
    "                'US_WI_55057', 'US_WI_55059', 'US_WI_55061', 'US_WI_55063', 'US_WI_55065', 'US_WI_55067', 'US_WI_55069', 'US_WI_55071', 'US_WI_55073', 'US_WI_55075', \n",
    "                'US_WI_55077', 'US_WI_55078', 'US_WI_55079', 'US_WI_55081', 'US_WI_55083', 'US_WI_55085', 'US_WI_55087', 'US_WI_55089', 'US_WI_55091', 'US_WI_55093', \n",
    "                'US_WI_55095', 'US_WI_55097', 'US_WI_55099', 'US_WI_55101', 'US_WI_55105', 'US_WI_55107', 'US_WI_55109', 'US_WI_55111', 'US_WI_55113', 'US_WI_55115', \n",
    "                'US_WI_55117', 'US_WI_55119', 'US_WI_55121', 'US_WI_55123', 'US_WI_55125', 'US_WI_55127', 'US_WI_55129', 'US_WI_55131', 'US_WI_55133', 'US_WI_55135', \n",
    "                'US_WI_55137', 'US_WI_55139', 'US_WI_55141', 'US_NC_37001', 'US_NC_37003', 'US_NC_37005', 'US_NC_37007', 'US_NC_37009', 'US_NC_37011', 'US_NC_37013', \n",
    "                'US_NC_37015', 'US_NC_37017', 'US_NC_37019', 'US_NC_37021', 'US_NC_37023', 'US_NC_37025', 'US_NC_37027', 'US_NC_37029', 'US_NC_37031', 'US_NC_37033', \n",
    "                'US_NC_37035', 'US_NC_37037', 'US_NC_37039', 'US_NC_37041', 'US_NC_37043', 'US_NC_37045', 'US_NC_37047', 'US_NC_37049', 'US_NC_37051', 'US_NC_37053', \n",
    "                'US_NC_37055', 'US_NC_37057', 'US_NC_37061', 'US_NC_37063', 'US_NC_37065', 'US_NC_37067', 'US_NC_37069', 'US_NC_37071', 'US_NC_37073', 'US_NC_37075', \n",
    "                'US_NC_37077', 'US_NC_37079', 'US_NC_37081', 'US_NC_37083', 'US_NC_37085', 'US_NC_37087', 'US_NC_37089', 'US_NC_37091', 'US_NC_37093', 'US_NC_37095', \n",
    "                'US_NC_37097', 'US_NC_37099', 'US_NC_37101', 'US_NC_37103', 'US_NC_37105', 'US_NC_37107', 'US_NC_37109', 'US_NC_37111', 'US_NC_37113', 'US_NC_37115', \n",
    "                'US_NC_37117', 'US_NC_37119', 'US_NC_37121', 'US_NC_37123', 'US_NC_37125', 'US_NC_37127', 'US_NC_37129', 'US_NC_37131', 'US_NC_37133', 'US_NC_37135', \n",
    "                'US_NC_37137', 'US_NC_37139', 'US_NC_37141', 'US_NC_37143', 'US_NC_37145', 'US_NC_37147', 'US_NC_37149', 'US_NC_37151', 'US_NC_37153', 'US_NC_37155', \n",
    "                'US_NC_37157', 'US_NC_37159', 'US_NC_37161', 'US_NC_37163', 'US_NC_37165', 'US_NC_37167', 'US_NC_37169', 'US_NC_37171', 'US_NC_37173', 'US_NC_37175', \n",
    "                'US_NC_37177', 'US_NC_37179', 'US_NC_37181', 'US_NC_37183', 'US_NC_37185', 'US_NC_37187', 'US_NC_37189', 'US_NC_37191', 'US_NC_37193', 'US_NC_37195', \n",
    "                'US_NC_37197', 'US_NC_37199', 'US_FL_12001', 'US_FL_12003', 'US_FL_12005', 'US_FL_12009', 'US_FL_12013', 'US_FL_12015', 'US_FL_12017', 'US_FL_12021', \n",
    "                'US_FL_12023', 'US_FL_12027', 'US_FL_12029', 'US_FL_12031', 'US_FL_12033', 'US_FL_12035', 'US_FL_12037', 'US_FL_12039', 'US_FL_12041', 'US_FL_12043', \n",
    "                'US_FL_12045', 'US_FL_12047', 'US_FL_12049', 'US_FL_12051', 'US_FL_12053', 'US_FL_12055', 'US_FL_12057', 'US_FL_12059', 'US_FL_12061', 'US_FL_12063', \n",
    "                'US_FL_12065', 'US_FL_12067', 'US_FL_12069', 'US_FL_12071', 'US_FL_12073', 'US_FL_12075', 'US_FL_12077', 'US_FL_12079', 'US_FL_12081', 'US_FL_12083', \n",
    "                'US_FL_12085', 'US_FL_12086', 'US_FL_12087', 'US_FL_12089', 'US_FL_12091', 'US_FL_12093', 'US_FL_12095', 'US_FL_12097', 'US_FL_12099', 'US_FL_12101', \n",
    "                'US_FL_12103', 'US_FL_12105', 'US_FL_12107', 'US_FL_12109', 'US_FL_12111', 'US_FL_12113', 'US_FL_12115', 'US_FL_12117', 'US_FL_12119', 'US_FL_12121', \n",
    "                'US_FL_12123', 'US_FL_12125', 'US_FL_12127', 'US_FL_12129', 'US_FL_12131', 'US_FL_12133', 'US_NY_36001', 'US_NY_36003', 'US_NY_36005', 'US_NY_36007', \n",
    "                'US_NY_36009', 'US_NY_36011', 'US_NY_36013', 'US_NY_36015', 'US_NY_36017', 'US_NY_36019', 'US_NY_36021', 'US_NY_36023', 'US_NY_36025', 'US_NY_36027', \n",
    "                'US_NY_36029', 'US_NY_36031', 'US_NY_36033', 'US_NY_36035', 'US_NY_36039', 'US_NY_36041', 'US_NY_36043', 'US_NY_36045', 'US_NY_36047', 'US_NY_36049', \n",
    "                'US_NY_36051', 'US_NY_36053', 'US_NY_36055', 'US_NY_36057', 'US_NY_36059', 'US_NY_36061', 'US_NY_36063', 'US_NY_36065', 'US_NY_36067', 'US_NY_36069', \n",
    "                'US_NY_36071', 'US_NY_36075', 'US_NY_36077', 'US_NY_36079', 'US_NY_36081', 'US_NY_36083', 'US_NY_36085', 'US_NY_36087', 'US_NY_36089', 'US_NY_36091', \n",
    "                'US_NY_36093', 'US_NY_36095', 'US_NY_36097', 'US_NY_36099', 'US_NY_36101', 'US_NY_36103', 'US_NY_36105', 'US_NY_36107', 'US_NY_36109', 'US_NY_36111', \n",
    "                'US_NY_36113', 'US_NY_36115', 'US_NY_36117', 'US_NY_36119', 'US_NY_36121', 'US_NY_36123', 'US_NY_NYC', 'US_CA_06001', 'US_CA_06003', 'US_CA_06005', \n",
    "                'US_CA_06007', 'US_CA_06011', 'US_CA_06013', 'US_CA_06015', 'US_CA_06017', 'US_CA_06019', 'US_CA_06021', 'US_CA_06023', 'US_CA_06025', 'US_CA_06027', \n",
    "                'US_CA_06029', 'US_CA_06031', 'US_CA_06033', 'US_CA_06035', 'US_CA_06037', 'US_CA_06039', 'US_CA_06041', 'US_CA_06043', 'US_CA_06045', 'US_CA_06047', \n",
    "                'US_CA_06049', 'US_CA_06051', 'US_CA_06053', 'US_CA_06055', 'US_CA_06057', 'US_CA_06059', 'US_CA_06061', 'US_CA_06063', 'US_CA_06065', 'US_CA_06067', \n",
    "                'US_CA_06069', 'US_CA_06071', 'US_CA_06073', 'US_CA_06075', 'US_CA_06077', 'US_CA_06079', 'US_CA_06081', 'US_CA_06083', 'US_CA_06085', 'US_CA_06087', \n",
    "                'US_CA_06089', 'US_CA_06091', 'US_CA_06093', 'US_CA_06095', 'US_CA_06097', 'US_CA_06099', 'US_CA_06101', 'US_CA_06103', 'US_CA_06105', 'US_CA_06107', \n",
    "                'US_CA_06109', 'US_CA_06111', 'US_CA_06113', 'US_CA_06115', 'US_CA_SFO'\n",
    "]\n",
    "\n",
    "url = \"https://storage.googleapis.com/covid19-open-data/v3/location/{}.csv\"\n",
    "save_path = \"../Test CSVs\""
   ]
  },
  {
   "cell_type": "code",
   "execution_count": 10,
   "id": "34249077-37a0-4956-8688-d9cad3f5baa8",
   "metadata": {},
   "outputs": [],
   "source": [
    "# function to download all CSVs and save to folder\n",
    "import os\n",
    "import requests\n"
   ]
  },
  {
   "cell_type": "code",
   "execution_count": 15,
   "id": "ad5700fe-f1f8-4115-b00f-b96aac5d0c6d",
   "metadata": {},
   "outputs": [],
   "source": [
    "\n",
    "def download_csvs(base_url, identifiers, save_path):\n",
    "    if not os.path.exists(save_path):\n",
    "        os.makedirs(save_path)\n",
    "\n",
    "    for state in identifiers:\n",
    "        try:\n",
    "            # Construct the full URL for each file\n",
    "            url = base_url.format(state)\n",
    "            response = requests.get(url)\n",
    "            response.raise_for_status()  # Raise an error on a bad status\n",
    "\n",
    "            # Define the full save path\n",
    "            full_path = os.path.join(save_path, \"{}.csv\".format(state))\n",
    "\n",
    "            with open(full_path, 'wb') as file:\n",
    "                file.write(response.content)\n",
    "            print(f\"Downloaded {state} successfully.\")\n",
    "        except requests.exceptions.HTTPError as err:\n",
    "            print(f\"HTTP Error for {state}: {err}\")\n",
    "        except requests.exceptions.RequestException as err:\n",
    "            print(f\"Request Error for {state}: {err}\")\n",
    "        except Exception as err:\n",
    "            print(f\"Error downloading {state}: {err}\")\n"
   ]
  },
  {
   "cell_type": "code",
   "execution_count": 18,
   "id": "33c15233-0bde-4b7d-8c61-54166171114a",
   "metadata": {},
   "outputs": [
    {
     "name": "stdout",
     "output_type": "stream",
     "text": [
      "Downloaded US_AK_02013 successfully.\n",
      "Downloaded US_AK_02016 successfully.\n",
      "Downloaded US_AK_02020 successfully.\n",
      "Downloaded US_AK_02050 successfully.\n",
      "Downloaded US_AK_02060 successfully.\n"
     ]
    }
   ],
   "source": [
    "# \n",
    "\n",
    "\n",
    "\n",
    "download_csvs(url, county_codes, save_path)\n"
   ]
  },
  {
   "cell_type": "code",
   "execution_count": null,
   "id": "5be7c136-4d68-4e05-ba1f-355ec8fec20c",
   "metadata": {},
   "outputs": [],
   "source": []
  }
 ],
 "metadata": {
  "kernelspec": {
   "display_name": "Python 3 (ipykernel)",
   "language": "python",
   "name": "python3"
  },
  "language_info": {
   "codemirror_mode": {
    "name": "ipython",
    "version": 3
   },
   "file_extension": ".py",
   "mimetype": "text/x-python",
   "name": "python",
   "nbconvert_exporter": "python",
   "pygments_lexer": "ipython3",
   "version": "3.10.8"
  }
 },
 "nbformat": 4,
 "nbformat_minor": 5
}
